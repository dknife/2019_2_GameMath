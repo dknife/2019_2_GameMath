{
  "nbformat": 4,
  "nbformat_minor": 0,
  "metadata": {
    "colab": {
      "name": "matrix_ex.ipynb",
      "provenance": [],
      "collapsed_sections": [],
      "include_colab_link": true
    },
    "kernelspec": {
      "name": "python3",
      "display_name": "Python 3"
    }
  },
  "cells": [
    {
      "cell_type": "markdown",
      "metadata": {
        "id": "view-in-github",
        "colab_type": "text"
      },
      "source": [
        "<a href=\"https://colab.research.google.com/github/dknife/2019_2_GameMath/blob/master/matrix_ex.ipynb\" target=\"_parent\"><img src=\"https://colab.research.google.com/assets/colab-badge.svg\" alt=\"Open In Colab\"/></a>"
      ]
    },
    {
      "cell_type": "code",
      "metadata": {
        "id": "0WkpftAZZnv2",
        "colab_type": "code",
        "colab": {}
      },
      "source": [
        "import numpy as np\n",
        "import math\n",
        "import matplotlib.pyplot as plt"
      ],
      "execution_count": 0,
      "outputs": []
    },
    {
      "cell_type": "code",
      "metadata": {
        "id": "M-yrpBG5aQs6",
        "colab_type": "code",
        "colab": {}
      },
      "source": [
        "u = np.array([1, 2])\n",
        "v = np.array([2, 3])"
      ],
      "execution_count": 0,
      "outputs": []
    },
    {
      "cell_type": "code",
      "metadata": {
        "id": "hO_jZRKuaWgo",
        "colab_type": "code",
        "outputId": "a471ce9c-b24f-42e6-a104-80bf21c4fae1",
        "colab": {
          "base_uri": "https://localhost:8080/",
          "height": 34
        }
      },
      "source": [
        "dot = np.dot(u,v)\n",
        "print(dot)"
      ],
      "execution_count": 0,
      "outputs": [
        {
          "output_type": "stream",
          "text": [
            "8\n"
          ],
          "name": "stdout"
        }
      ]
    },
    {
      "cell_type": "code",
      "metadata": {
        "id": "GPQdMsrfadNg",
        "colab_type": "code",
        "outputId": "d68988e3-415b-4135-e39b-5d9745e42dbd",
        "colab": {
          "base_uri": "https://localhost:8080/",
          "height": 34
        }
      },
      "source": [
        "cross = np.cross(u,v)\n",
        "print(cross)"
      ],
      "execution_count": 0,
      "outputs": [
        {
          "output_type": "stream",
          "text": [
            "-1\n"
          ],
          "name": "stdout"
        }
      ]
    },
    {
      "cell_type": "code",
      "metadata": {
        "id": "VSXCggdTak8M",
        "colab_type": "code",
        "colab": {}
      },
      "source": [
        "A = np.array([[1, 2], [3, 4]])\n",
        "v = np.array([1, 2])"
      ],
      "execution_count": 0,
      "outputs": []
    },
    {
      "cell_type": "code",
      "metadata": {
        "id": "mlHAJW3Oa8EE",
        "colab_type": "code",
        "outputId": "7cbbe81e-11fe-4878-f335-f57062b3c8a5",
        "colab": {
          "base_uri": "https://localhost:8080/",
          "height": 34
        }
      },
      "source": [
        "A.dot(v)"
      ],
      "execution_count": 0,
      "outputs": [
        {
          "output_type": "execute_result",
          "data": {
            "text/plain": [
              "array([ 5, 11])"
            ]
          },
          "metadata": {
            "tags": []
          },
          "execution_count": 9
        }
      ]
    },
    {
      "cell_type": "code",
      "metadata": {
        "id": "RJyz34aRbCcM",
        "colab_type": "code",
        "outputId": "5f9bcee5-0902-4ad5-a093-9fa18c001773",
        "colab": {
          "base_uri": "https://localhost:8080/",
          "height": 51
        }
      },
      "source": [
        "Ainv = np.linalg.inv(A)\n",
        "Ainv"
      ],
      "execution_count": 0,
      "outputs": [
        {
          "output_type": "execute_result",
          "data": {
            "text/plain": [
              "array([[-2. ,  1. ],\n",
              "       [ 1.5, -0.5]])"
            ]
          },
          "metadata": {
            "tags": []
          },
          "execution_count": 10
        }
      ]
    },
    {
      "cell_type": "code",
      "metadata": {
        "id": "kkZJY6KLbJVt",
        "colab_type": "code",
        "outputId": "9c8ddd86-4b0d-4899-ed3b-9c58019c4f77",
        "colab": {
          "base_uri": "https://localhost:8080/",
          "height": 51
        }
      },
      "source": [
        "A.dot(Ainv)"
      ],
      "execution_count": 0,
      "outputs": [
        {
          "output_type": "execute_result",
          "data": {
            "text/plain": [
              "array([[1.0000000e+00, 0.0000000e+00],\n",
              "       [8.8817842e-16, 1.0000000e+00]])"
            ]
          },
          "metadata": {
            "tags": []
          },
          "execution_count": 11
        }
      ]
    },
    {
      "cell_type": "code",
      "metadata": {
        "id": "9uZY_8v1bXA8",
        "colab_type": "code",
        "outputId": "25077cd6-8cf2-4070-8e03-d738a7670e16",
        "colab": {
          "base_uri": "https://localhost:8080/",
          "height": 265
        }
      },
      "source": [
        "plt.scatter( 10, 10, c='r')\n",
        "plt.scatter( 0, 0, c='g')\n",
        "plt.scatter(-10,-10, c='b')\n",
        "\n",
        "plt.grid(True)\n",
        "plt.show()"
      ],
      "execution_count": 0,
      "outputs": [
        {
          "output_type": "display_data",
          "data": {
            "image/png": "[encoded data removed]",
            "text/plain": [
              "<Figure size 432x288 with 1 Axes>"
            ]
          },
          "metadata": {
            "tags": []
          }
        }
      ]
    },
    {
      "cell_type": "code",
      "metadata": {
        "id": "KjVdZFhKbiPt",
        "colab_type": "code",
        "outputId": "dd441b53-e352-4047-8300-bdc42d2adf85",
        "colab": {
          "base_uri": "https://localhost:8080/",
          "height": 272
        }
      },
      "source": [
        "# vectors\n",
        "u = np.array([1,2,3])\n",
        "v = np.array([1,1,1])\n",
        "print(u+v)\n",
        "\n",
        "# matrix\n",
        "M = np.array(\n",
        "    [[1,1,2],\n",
        "     [2,1,3],\n",
        "     [3,4,5]])\n",
        "\n",
        "Mu = M.dot(u)\n",
        "print(M)\n",
        "print(u)\n",
        "print(Mu)\n",
        "\n",
        "dot = np.dot(u,v)\n",
        "print(\"dot = \", dot)\n",
        "uxv = np.cross(u,v)\n",
        "print(\"cross = \", uxv)\n",
        "\n",
        "\n",
        "detM = np.linalg.det(M)\n",
        "print(\"determinant =\", detM)\n",
        "\n",
        "Minv = np.linalg.inv(M)\n",
        "print(Minv)\n",
        "\n",
        "I = M.dot(Minv)\n",
        "print(I)"
      ],
      "execution_count": 0,
      "outputs": [
        {
          "output_type": "stream",
          "text": [
            "[2 3 4]\n",
            "[[1 1 2]\n",
            " [2 1 3]\n",
            " [3 4 5]]\n",
            "[1 2 3]\n",
            "[ 9 13 26]\n",
            "dot =  6\n",
            "cross =  [-1  2 -1]\n",
            "determinant = 2.000000000000001\n",
            "[[-3.5  1.5  0.5]\n",
            " [-0.5 -0.5  0.5]\n",
            " [ 2.5 -0.5 -0.5]]\n",
            "[[1.00000000e+00 2.22044605e-16 1.11022302e-16]\n",
            " [0.00000000e+00 1.00000000e+00 5.55111512e-17]\n",
            " [8.88178420e-16 2.22044605e-16 1.00000000e+00]]\n"
          ],
          "name": "stdout"
        }
      ]
    },
    {
      "cell_type": "code",
      "metadata": {
        "id": "kqG72LpIb0jm",
        "colab_type": "code",
        "outputId": "7592fbd1-aad3-4f67-f382-3cf27e3fd6ed",
        "colab": {
          "base_uri": "https://localhost:8080/",
          "height": 265
        }
      },
      "source": [
        "p1 = np.array([2,0])\n",
        "# rotation matrix R\n",
        "c = math.cos(math.radians(45))\n",
        "s = math.sin(math.radians(45))\n",
        "R = np.array([\n",
        "            [c, -s],\n",
        "            [s,  c]])\n",
        "P1 = R.dot(p1)\n",
        "\n",
        "def drawPoint(p, color) :\n",
        "    plt.scatter(p[0], p[1], c=color)\n",
        "\n",
        "drawPoint([5,5],'r')\n",
        "drawPoint([-5,-5],'r')\n",
        "drawPoint([0,0], 'r')\n",
        "\n",
        "drawPoint(p1, 'b')\n",
        "drawPoint(P1, 'g')\n",
        "\n",
        "plt.grid(True)\n",
        "plt.show()"
      ],
      "execution_count": 0,
      "outputs": [
        {
          "output_type": "display_data",
          "data": {
            "image/png": "[encoded data removed]",
            "text/plain": [
              "<Figure size 432x288 with 1 Axes>"
            ]
          },
          "metadata": {
            "tags": []
          }
        }
      ]
    },
    {
      "cell_type": "code",
      "metadata": {
        "id": "yLiJSZ73czJR",
        "colab_type": "code",
        "colab": {}
      },
      "source": [
        "import numpy as np\n",
        "import pylab as pl\n",
        "from matplotlib import collections  as mc\n",
        "\n",
        "def draw2DMatrix(M):\n",
        "  m00 = M[0,0]\n",
        "  m01 = M[0,1]\n",
        "  m10 = M[1,0]\n",
        "  m11 = M[1,1]\n",
        "  lines = [ [(0,0), (m00, m10)], [(0,0), (m01, m11)], [(m00,m10), (m00+m01, m10+m11)], [(m01, m11), (m00+m01, m10+m11)]]\n",
        "  c = np.array([(1, 0, 0, 1), (0, 1, 0, 1), (0.75, 0.75, 0.75, 1), (0.75, 0.75, 0.75, 1)])\n",
        "  lc = mc.LineCollection(lines, colors=c, linewidths=2)\n",
        "  return lc\n",
        "  \n",
        "\n"
      ],
      "execution_count": 0,
      "outputs": []
    },
    {
      "cell_type": "code",
      "metadata": {
        "id": "bZ2V5jKoje1f",
        "colab_type": "code",
        "outputId": "3d856e54-2b4b-4f14-a9fa-dd9e8aea5bf2",
        "colab": {
          "base_uri": "https://localhost:8080/",
          "height": 268
        }
      },
      "source": [
        "fig, ax = pl.subplots()\n",
        "M = np.array([[1, 0], [0, 4]])\n",
        "lc = draw2DMatrix(M)\n",
        "ax.add_collection(lc)\n",
        "ax.autoscale()\n",
        "ax.margins(0.1)\n",
        "ax.grid(True)\n",
        "drawPoint([5,5],'r')\n",
        "drawPoint([-5,-5],'r')\n",
        "drawPoint([0,0], 'r')"
      ],
      "execution_count": 0,
      "outputs": [
        {
          "output_type": "display_data",
          "data": {
            "image/png": "[encoded data removed]",
            "text/plain": [
              "<Figure size 432x288 with 1 Axes>"
            ]
          },
          "metadata": {
            "tags": []
          }
        }
      ]
    },
    {
      "cell_type": "code",
      "metadata": {
        "id": "_3uWLUNkjgY6",
        "colab_type": "code",
        "outputId": "25bd9fd7-bae9-48f3-b4b4-b015a28ae48c",
        "colab": {
          "base_uri": "https://localhost:8080/",
          "height": 268
        }
      },
      "source": [
        "fig, ax = pl.subplots()\n",
        "M = np.array([[1, 0], [0, 4]])\n",
        "lc = draw2DMatrix(M)\n",
        "ax.add_collection(lc)\n",
        "ax.autoscale()\n",
        "ax.margins(0.1)\n",
        "ax.grid(True)\n",
        "drawPoint([5,5],'r')\n",
        "drawPoint([-5,-5],'r')\n",
        "drawPoint([0,0], 'r')"
      ],
      "execution_count": 0,
      "outputs": [
        {
          "output_type": "display_data",
          "data": {
            "image/png": "[encoded data removed]",
            "text/plain": [
              "<Figure size 432x288 with 1 Axes>"
            ]
          },
          "metadata": {
            "tags": []
          }
        }
      ]
    }
  ]
}